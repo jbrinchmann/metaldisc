{
 "cells": [
  {
   "cell_type": "markdown",
   "id": "620ea6d1",
   "metadata": {},
   "source": [
    "# Model from SFR map\n",
    "\n",
    "This is a Jupyter version of David Carton's Python script. This was created mostly for debugging purposes but should also be helpful for overall use"
   ]
  },
  {
   "cell_type": "code",
   "execution_count": 1,
   "id": "728c65c4",
   "metadata": {
    "ExecuteTime": {
     "end_time": "2023-02-05T22:50:51.769095Z",
     "start_time": "2023-02-05T22:50:51.009798Z"
    }
   },
   "outputs": [],
   "source": [
    "from __future__ import absolute_import\n",
    "import numpy as np\n",
    "\n",
    "import matplotlib as mpl\n",
    "from six.moves import range\n",
    "params = {\n",
    "        'text.usetex': True,\n",
    "        'font.size': 8,\n",
    "        }\n",
    "mpl.rcParams.update(params)\n",
    "import matplotlib.pyplot as plt\n",
    "from matplotlib import gridspec\n",
    "from matplotlib import patches\n",
    "\n",
    "from astropy.io import fits\n",
    "from astropy.cosmology import FlatLambdaCDM\n",
    "\n",
    "from metaldisc.fluxgrid import FluxGrid\n",
    "from metaldisc.galaxy import GalaxyMap\n",
    "from metaldisc.seeing import MoffatPSF\n",
    "from metaldisc.obssim import BinmapObsSim, ImageObsSim\n"
   ]
  },
  {
   "cell_type": "markdown",
   "id": "a5636d72",
   "metadata": {},
   "source": [
    "## General initialization routines\n",
    "\n",
    "These help set up the specific model."
   ]
  },
  {
   "cell_type": "code",
   "execution_count": 2,
   "id": "8067ed9c",
   "metadata": {
    "ExecuteTime": {
     "end_time": "2023-02-05T22:50:51.773067Z",
     "start_time": "2023-02-05T22:50:51.009Z"
    }
   },
   "outputs": [],
   "source": [
    "def init_fluxgrid():\n",
    "    \"\"\"Initialize emission-line model instance\"\"\"\n",
    "    #select model grid to use\n",
    "    grid = '../grids/grid_Dopita13_kappa=inf.h5'\n",
    "\n",
    "    #list of line names that we will be using\n",
    "    lines = ['O2-3727', 'O2-3729', 'Hg', 'Hb', 'O3-5007']\n",
    "    #these names must match those defined in the model grid file\n",
    "    \n",
    "    #preload model flux grid\n",
    "    fluxgrid = FluxGrid(grid, lines)\n",
    "\n",
    "    return fluxgrid\n",
    "\n",
    "\n",
    "def init_seeing(file_):\n",
    "    \"\"\"Initialize PSF model instance\"\"\"\n",
    "\n",
    "    with fits.open(file_, mode='readonly') as fh:\n",
    "        #get psf info\n",
    "        psf_data = np.array(fh['psf'].data)\n",
    "\n",
    "    seeing = MoffatPSF(psf_data['wave'], psf_data['fwhm'], psf_data['beta'])\n",
    "\n",
    "    return seeing\n",
    "\n",
    "\n",
    "def init_galaxy(file_, fluxgrid):\n",
    "    \"\"\"Initialize galaxy model instance\"\"\"\n",
    "\n",
    "    with fits.open(file_, mode='readonly') as fh:\n",
    "        #get basic info from primary header\n",
    "        ra = fh[0].header['RA'] #ra of galaxy centre\n",
    "        dec = fh[0].header['Dec'] #dec of galaxy centre\n",
    "        z = fh[0].header['z'] #redshift\n",
    "\n",
    "        inc = fh[0].header['inc'] #disc inclination\n",
    "        pa = fh[0].header['pa'] #position angle (North=0, East=90)\n",
    "\n",
    "        #get approximate SFR map to be used as a fixed model input\n",
    "        sfrmap = fh['sfrmap'].copy()\n",
    "        #sfrmap must be a fits ImageHDU with the correct WCS information\n",
    "\n",
    "    #choose a cosmology used to calcuate luminosity distance\n",
    "    cosmo = FlatLambdaCDM(H0=70., Om0=0.3)\n",
    "\n",
    "    galaxy = GalaxyMap(sfrmap, ra, dec, z, pa, inc, cosmo, fluxgrid)\n",
    "\n",
    "    return galaxy\n",
    "\n",
    "\n",
    "def init_obssim(file_, galaxy, seeing):\n",
    "    \"\"\"Initialize observation model instance\"\"\"\n",
    "\n",
    "    with fits.open(file_, mode='readonly') as fh:\n",
    "        #get segmentation map indicating spatial positions of the above emission\n",
    "        #line fluxes \n",
    "\n",
    "        binmap = fh['binmap'].copy()\n",
    "        #binmap must be a fits ImageHDU with the correct WCS information\n",
    "\n",
    "    obssim = BinmapObsSim(binmap, galaxy, seeing)\n",
    "\n",
    "    return obssim\n",
    "\n",
    "\n",
    "def construct_image(flux, binmap):\n",
    "    im = np.full_like(binmap, np.nan, dtype=float)\n",
    "    for i_bin in range(len(flux)):\n",
    "        mask = binmap == (i_bin + 1)\n",
    "        im[mask] = flux[i_bin]\n",
    "\n",
    "    return im\n"
   ]
  },
  {
   "cell_type": "markdown",
   "id": "e580eebb",
   "metadata": {},
   "source": [
    "## Plotting routines"
   ]
  },
  {
   "cell_type": "code",
   "execution_count": 3,
   "id": "1fa1fdea",
   "metadata": {
    "ExecuteTime": {
     "end_time": "2023-02-05T22:50:51.774222Z",
     "start_time": "2023-02-05T22:50:51.011Z"
    }
   },
   "outputs": [],
   "source": [
    "\n",
    "def plot_results(file_, model_flux):\n",
    "    with fits.open(file_, mode='readonly') as fh:\n",
    "        binmap = np.array(fh['binmap'].data)\n",
    "\n",
    "        obs_flux = np.array(fh['flux'].data)\n",
    "        obs_flux = obs_flux.view((obs_flux.dtype[0], len(obs_flux.dtype.names)))\n",
    "\n",
    "\n",
    "    lines = [r'$[\\textrm{OII}]3726,3729$', r'$\\textrm{H}\\gamma$',\n",
    "             r'$\\textrm{H}\\gamma$', r'$[\\textrm{OIII}]5007$']\n",
    "    n_lines = len(lines)\n",
    "    fig = plt.figure(figsize=[4.,2.*n_lines], tight_layout=True)\n",
    "    gs = gridspec.GridSpec(n_lines, 2)\n",
    "\n",
    "    axes = np.full([n_lines,2], None, dtype=object)\n",
    "    for i_line in range(n_lines):\n",
    "        ax1 = fig.add_subplot(gs[i_line,0], facecolor='0.8')\n",
    "        ax2 = fig.add_subplot(gs[i_line,1], facecolor='0.8')\n",
    "\n",
    "        axes[i_line] = ax1, ax2\n",
    "    \n",
    "    model_flux *= 1e20 #model_flux in ergs/s/cm^2 \n",
    "\n",
    "    #coadd O2-3726 + O2_3729\n",
    "    model_flux_coadd = np.full_like(obs_flux, np.nan, dtype=float)\n",
    "    model_flux_coadd[:,0] = model_flux[:,0]\n",
    "    model_flux_coadd[:,0] += model_flux[:,1]\n",
    "    model_flux_coadd[:,1:] = model_flux[:,2:]\n",
    "\n",
    "    for i_line in range(n_lines):\n",
    "        ax1, ax2 = axes[i_line]\n",
    "\n",
    "        obs_im = construct_image(obs_flux[:,i_line], binmap)\n",
    "        model_im = construct_image(model_flux_coadd[:,i_line], binmap)\n",
    "        \n",
    "        vmin = np.nanmin([np.nanmin(obs_im), np.nanmin(model_im)])\n",
    "        vmax = np.nanmax([np.nanmax(obs_im), np.nanmax(model_im)])\n",
    "        ax1.imshow(obs_im, interpolation='none', origin='lower', vmin=vmin,\n",
    "                vmax=vmax)\n",
    "        ax2.imshow(model_im, interpolation='none', origin='lower', vmin=vmin,\n",
    "                vmax=vmax)\n",
    "\n",
    "        text = lines[i_line]\n",
    "        ax1.text(0.05, 0.05, text, va='bottom', ha='left',\n",
    "                 transform=ax1.transAxes)\n",
    "\n",
    "        text = r'$\\textrm{Observed}$'\n",
    "        ax1.text(0.95, 0.95, text, va='top', ha='right',\n",
    "                 transform=ax1.transAxes)\n",
    "\n",
    "        text = r'$\\textrm{Model}$'\n",
    "        ax2.text(0.95, 0.95, text, va='top', ha='right',\n",
    "                 transform=ax2.transAxes)\n",
    "\n",
    "    for ax in axes.ravel():\n",
    "        ax.tick_params(bottom=False, left=False, labelbottom=False,\n",
    "                labelleft=False)\n",
    "\n",
    "    return fig\n"
   ]
  },
  {
   "cell_type": "markdown",
   "id": "804a7172",
   "metadata": {},
   "source": [
    "# Running the script\n",
    "\n",
    "This is hard-coded to a particular dataset and is not very generic but the process is the same for any."
   ]
  },
  {
   "cell_type": "code",
   "execution_count": 4,
   "id": "0e317327",
   "metadata": {
    "ExecuteTime": {
     "end_time": "2023-02-05T22:50:51.775191Z",
     "start_time": "2023-02-05T22:50:51.012Z"
    }
   },
   "outputs": [],
   "source": [
    "# First, define the file containing the MUSE data\n",
    "file_ = 'example_HDFS_0003.fit'"
   ]
  },
  {
   "cell_type": "code",
   "execution_count": 5,
   "id": "93f425fe",
   "metadata": {
    "ExecuteTime": {
     "end_time": "2023-02-05T22:50:51.776328Z",
     "start_time": "2023-02-05T22:50:51.013Z"
    }
   },
   "outputs": [],
   "source": [
    "# Then we build the model step by step - first set up the flux grid\n",
    "fluxgrid = init_fluxgrid()"
   ]
  },
  {
   "cell_type": "code",
   "execution_count": 6,
   "id": "5d04fa99",
   "metadata": {
    "ExecuteTime": {
     "end_time": "2023-02-05T22:50:51.777322Z",
     "start_time": "2023-02-05T22:50:51.014Z"
    }
   },
   "outputs": [],
   "source": [
    "# The seeing model\n",
    "seeing = init_seeing(file_)"
   ]
  },
  {
   "cell_type": "code",
   "execution_count": 7,
   "id": "00d65178",
   "metadata": {
    "ExecuteTime": {
     "end_time": "2023-02-05T22:50:51.778293Z",
     "start_time": "2023-02-05T22:50:51.015Z"
    }
   },
   "outputs": [],
   "source": [
    "# The galaxy\n",
    "galaxy = init_galaxy(file_, fluxgrid)"
   ]
  },
  {
   "cell_type": "code",
   "execution_count": 8,
   "id": "45adafb0",
   "metadata": {
    "ExecuteTime": {
     "end_time": "2023-02-05T22:50:51.779201Z",
     "start_time": "2023-02-05T22:50:51.016Z"
    }
   },
   "outputs": [],
   "source": [
    "# And the observation\n",
    "obssim = init_obssim(file_, galaxy, seeing)"
   ]
  },
  {
   "cell_type": "code",
   "execution_count": 9,
   "id": "0a777d60",
   "metadata": {
    "ExecuteTime": {
     "end_time": "2023-02-05T22:50:51.780092Z",
     "start_time": "2023-02-05T22:50:51.017Z"
    }
   },
   "outputs": [],
   "source": [
    "#simulate galaxy with following parameters\n",
    "params = {\n",
    "        'SFRtotal': 19.6,  #total SFR (normalization constant)\n",
    "        'logZ_0': 0.212,    #metallicity at center of galaxy\n",
    "        'dlogZ': -0.0316,     #metallicity gradient in dex/kpc\n",
    "        'logU_sol': -3.59, #ionization parameter at solar metallicity\n",
    "        'tauV_0': 1.76,    #optical depth at 5500A\n",
    "        }"
   ]
  },
  {
   "cell_type": "code",
   "execution_count": 10,
   "id": "6fb36b14",
   "metadata": {
    "ExecuteTime": {
     "end_time": "2023-02-05T22:50:51.780957Z",
     "start_time": "2023-02-05T22:50:51.019Z"
    }
   },
   "outputs": [],
   "source": [
    "# now compute the emission-line fluxes computed by the model\n",
    "lines = ['O2-3727', 'O2-3729', 'Hg', 'Hb', 'O3-5007']\n",
    "model_flux = obssim(lines, params)"
   ]
  },
  {
   "cell_type": "markdown",
   "id": "0eadace4",
   "metadata": {},
   "source": [
    "## Compare model and observation\n",
    "\n",
    "A complete way to compare these two is given by the `plot_results` routine but it might seem a bit complex at first glance, so here I go through it in steps.\n",
    "\n",
    "The observational data are binned - this is stored as the `binmap` entry in the FITS file. The first step is thus to load this in."
   ]
  },
  {
   "cell_type": "code",
   "execution_count": 11,
   "id": "54fd1469",
   "metadata": {
    "ExecuteTime": {
     "end_time": "2023-02-05T22:50:51.781876Z",
     "start_time": "2023-02-05T22:50:51.020Z"
    }
   },
   "outputs": [],
   "source": [
    "lines = [r'$[\\textrm{OII}]3726,3729$', r'$\\textrm{H}\\gamma$',\n",
    "        r'$\\textrm{H}\\gamma$', r'$[\\textrm{OIII}]5007$']"
   ]
  },
  {
   "cell_type": "code",
   "execution_count": 29,
   "id": "2e5f559c",
   "metadata": {
    "ExecuteTime": {
     "end_time": "2023-02-05T22:50:51.782911Z",
     "start_time": "2023-02-05T22:50:51.021Z"
    }
   },
   "outputs": [],
   "source": [
    "fh = fits.open(file_, mode='readonly')\n",
    "binmap = np.array(fh['binmap'].data)\n",
    "\n",
    "obs_flux = np.array(fh['flux'].data)"
   ]
  },
  {
   "cell_type": "markdown",
   "id": "9fd98451",
   "metadata": {},
   "source": [
    "We can see the binning of the data by displaying `binmap`. This is an array which for each position in the image, gives the number of the bin."
   ]
  },
  {
   "cell_type": "code",
   "execution_count": 30,
   "id": "c4e33f95",
   "metadata": {
    "ExecuteTime": {
     "end_time": "2023-02-05T22:50:51.783880Z",
     "start_time": "2023-02-05T22:50:51.022Z"
    }
   },
   "outputs": [
    {
     "data": {
      "text/plain": [
       "<matplotlib.colorbar.Colorbar at 0x7fadf80bcaf0>"
      ]
     },
     "execution_count": 30,
     "metadata": {},
     "output_type": "execute_result"
    },
    {
     "data": {
      "image/png": "[encoded data removed]",
      "text/plain": [
       "<Figure size 640x480 with 2 Axes>"
      ]
     },
     "metadata": {},
     "output_type": "display_data"
    }
   ],
   "source": [
    "plt.imshow(binmap, cmap='tab20b')\n",
    "plt.colorbar()"
   ]
  },
  {
   "cell_type": "markdown",
   "id": "521c971f",
   "metadata": {},
   "source": [
    "Now this `obs_flux` variable is `numpy` record structure with the following columns:"
   ]
  },
  {
   "cell_type": "code",
   "execution_count": 31,
   "id": "ce5c14dc",
   "metadata": {
    "ExecuteTime": {
     "end_time": "2023-02-05T22:50:51.785051Z",
     "start_time": "2023-02-05T22:50:51.023Z"
    }
   },
   "outputs": [
    {
     "data": {
      "text/plain": [
       "('OII', 'H_GAMMA', 'H_BETA', 'OIII_5007')"
      ]
     },
     "execution_count": 31,
     "metadata": {},
     "output_type": "execute_result"
    }
   ],
   "source": [
    "obs_flux.dtype.names"
   ]
  },
  {
   "cell_type": "markdown",
   "id": "03d4312e",
   "metadata": {},
   "source": [
    " It is easier (probably?) to convert this to a multi-dimensional array thus we do that next."
   ]
  },
  {
   "cell_type": "code",
   "execution_count": 32,
   "id": "7a701193",
   "metadata": {
    "ExecuteTime": {
     "end_time": "2023-02-05T22:50:51.786241Z",
     "start_time": "2023-02-05T22:50:51.024Z"
    }
   },
   "outputs": [],
   "source": [
    "obs_flux = obs_flux.view((obs_flux.dtype[0], len(obs_flux.dtype.names)))"
   ]
  },
  {
   "cell_type": "code",
   "execution_count": 33,
   "id": "7b32c57b",
   "metadata": {
    "ExecuteTime": {
     "end_time": "2023-02-05T22:50:51.787333Z",
     "start_time": "2023-02-05T22:50:51.025Z"
    }
   },
   "outputs": [
    {
     "data": {
      "text/plain": [
       "(93, 4)"
      ]
     },
     "execution_count": 33,
     "metadata": {},
     "output_type": "execute_result"
    }
   ],
   "source": [
    "obs_flux.shape"
   ]
  },
  {
   "cell_type": "markdown",
   "id": "94e9aaa2",
   "metadata": {},
   "source": [
    "This array is not an image, the translation between array and image is controlled by `binmap` so we use this to create the image. This is all encapsulated in the `construct_image` routine above. Here is how we do this for the first image, [O II]3727,3729"
   ]
  },
  {
   "cell_type": "code",
   "execution_count": 17,
   "id": "b316b0e9",
   "metadata": {
    "ExecuteTime": {
     "end_time": "2023-02-05T22:50:51.788300Z",
     "start_time": "2023-02-05T22:50:51.026Z"
    }
   },
   "outputs": [],
   "source": [
    "im0 = construct_image(obs_flux[:, 0], binmap)"
   ]
  },
  {
   "cell_type": "markdown",
   "id": "7debecfc",
   "metadata": {},
   "source": [
    "So, let us first see what we get from this"
   ]
  },
  {
   "cell_type": "code",
   "execution_count": 18,
   "id": "03dcee08",
   "metadata": {
    "ExecuteTime": {
     "end_time": "2023-02-05T22:50:51.789198Z",
     "start_time": "2023-02-05T22:50:51.027Z"
    }
   },
   "outputs": [
    {
     "data": {
      "text/plain": [
       "Text(0.5, 1.0, '$[\\\\textrm{OII}]3726,3729$')"
      ]
     },
     "execution_count": 18,
     "metadata": {},
     "output_type": "execute_result"
    },
    {
     "data": {
      "image/png": "[encoded data removed]",
      "text/plain": [
       "<Figure size 640x480 with 1 Axes>"
      ]
     },
     "metadata": {},
     "output_type": "display_data"
    }
   ],
   "source": [
    "plt.imshow(im0)\n",
    "plt.title(lines[0])"
   ]
  },
  {
   "cell_type": "markdown",
   "id": "60715a98",
   "metadata": {},
   "source": [
    "## Displaying a grid of images\n",
    "\n",
    "Now we can then try to do what the `plot_results` routine above does. I'll use a slightly different layout though. And before we can do this, we need to combine the [O II]3726 and [O II]3729 model predictions"
   ]
  },
  {
   "cell_type": "code",
   "execution_count": 36,
   "id": "6bf39488",
   "metadata": {},
   "outputs": [],
   "source": [
    "model_flux *= 1e20 #model_flux in ergs/s/cm^2 \n",
    "\n",
    "#coadd O2-3726 + O2_3729\n",
    "model_flux_coadd = np.full_like(obs_flux, np.nan, dtype=float)\n",
    "model_flux_coadd[:,0] = model_flux[:,0]\n",
    "model_flux_coadd[:,0] += model_flux[:,1]\n",
    "model_flux_coadd[:,1:] = model_flux[:,2:]"
   ]
  },
  {
   "cell_type": "code",
   "execution_count": 37,
   "id": "de2f04ae",
   "metadata": {},
   "outputs": [
    {
     "data": {
      "image/png": "[encoded data removed]",
      "text/plain": [
       "<Figure size 700x1200 with 8 Axes>"
      ]
     },
     "metadata": {},
     "output_type": "display_data"
    }
   ],
   "source": [
    "\n",
    "fig, axes = plt.subplots(ncols=2, nrows=4, figsize=(7, 12))\n",
    "\n",
    "for i_line in range(4):\n",
    "    \n",
    "    obs_im = construct_image(obs_flux[:,i_line], binmap)\n",
    "    \n",
    "    model_im = construct_image(model_flux_coadd[:,i_line], binmap)\n",
    "    \n",
    "    # observations on the left\n",
    "    axes[i_line, 0].imshow(obs_im)\n",
    "    axes[i_line, 0].set_title(lines[i_line])\n",
    "    \n",
    "    # Models on the right\n",
    "    axes[i_line, 1].imshow(model_im, cmap='plasma')\n",
    "    axes[i_line, 1].set_title(lines[i_line])\n",
    "    "
   ]
  },
  {
   "cell_type": "code",
   "execution_count": 34,
   "id": "7d279e8d",
   "metadata": {},
   "outputs": [
    {
     "data": {
      "text/plain": [
       "(93, 4)"
      ]
     },
     "execution_count": 34,
     "metadata": {},
     "output_type": "execute_result"
    }
   ],
   "source": [
    "obs_flux.shape"
   ]
  },
  {
   "cell_type": "code",
   "execution_count": null,
   "id": "0f9ffe2d",
   "metadata": {},
   "outputs": [],
   "source": []
  }
 ],
 "metadata": {
  "kernelspec": {
   "display_name": "Python 3 (ipykernel)",
   "language": "python",
   "name": "python3"
  },
  "language_info": {
   "codemirror_mode": {
    "name": "ipython",
    "version": 3
   },
   "file_extension": ".py",
   "mimetype": "text/x-python",
   "name": "python",
   "nbconvert_exporter": "python",
   "pygments_lexer": "ipython3",
   "version": "3.10.9"
  },
  "varInspector": {
   "cols": {
    "lenName": 16,
    "lenType": 16,
    "lenVar": 40
   },
   "kernels_config": {
    "python": {
     "delete_cmd_postfix": "",
     "delete_cmd_prefix": "del ",
     "library": "var_list.py",
     "varRefreshCmd": "print(var_dic_list())"
    },
    "r": {
     "delete_cmd_postfix": ") ",
     "delete_cmd_prefix": "rm(",
     "library": "var_list.r",
     "varRefreshCmd": "cat(var_dic_list()) "
    }
   },
   "types_to_exclude": [
    "module",
    "function",
    "builtin_function_or_method",
    "instance",
    "_Feature"
   ],
   "window_display": false
  }
 },
 "nbformat": 4,
 "nbformat_minor": 5
}
